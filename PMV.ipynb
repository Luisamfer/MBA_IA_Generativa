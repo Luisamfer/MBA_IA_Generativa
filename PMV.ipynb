{
  "cells": [
    {
      "cell_type": "markdown",
      "id": "46484959-ef84-446f-adc7-7feb74f72dad",
      "metadata": {
        "id": "46484959-ef84-446f-adc7-7feb74f72dad"
      },
      "source": [
        "## Comando para baixar o PDF"
      ]
    },
    {
      "cell_type": "code",
      "execution_count": 3,
      "id": "48e6bfcf-25f4-4549-93ff-b502af8de68a",
      "metadata": {
        "colab": {
          "base_uri": "https://localhost:8080/"
        },
        "id": "48e6bfcf-25f4-4549-93ff-b502af8de68a",
        "outputId": "7b0aea15-57a4-4a27-e9be-58c2a58fe097"
      },
      "outputs": [
        {
          "output_type": "stream",
          "name": "stdout",
          "text": [
            "--2025-04-12 17:27:27--  https://anexosportal.datalegis.net/arquivos/1878261.pdf\n",
            "Resolving anexosportal.datalegis.net (anexosportal.datalegis.net)... 104.21.96.1, 104.21.112.1, 104.21.80.1, ...\n",
            "Connecting to anexosportal.datalegis.net (anexosportal.datalegis.net)|104.21.96.1|:443... connected.\n",
            "HTTP request sent, awaiting response... 200 OK\n",
            "Length: 455898 (445K) [application/pdf]\n",
            "Saving to: ‘biblioteca.pdf’\n",
            "\n",
            "biblioteca.pdf      100%[===================>] 445.21K  --.-KB/s    in 0.05s   \n",
            "\n",
            "2025-04-12 17:27:27 (9.27 MB/s) - ‘biblioteca.pdf’ saved [455898/455898]\n",
            "\n"
          ]
        }
      ],
      "source": [
        "!TOKENIZERS_PARALLELISM=true wget -O biblioteca.pdf \"https://anexosportal.datalegis.net/arquivos/1878261.pdf\""
      ]
    },
    {
      "cell_type": "code",
      "source": [
        "!pip install langchain faiss-cpu sentence-transformers\n",
        "!pip install langchain-community\n",
        "!pip install langchain_huggingface\n",
        "!pip install pypdf\n",
        "!pip install chromadb\n",
        "!pip install langchain_openai\n",
        "\n"
      ],
      "metadata": {
        "id": "EtaMce5GFSqw"
      },
      "id": "EtaMce5GFSqw",
      "execution_count": null,
      "outputs": []
    },
    {
      "cell_type": "markdown",
      "id": "3cb2fe91-6707-4720-8a5c-694e7a7f2883",
      "metadata": {
        "id": "3cb2fe91-6707-4720-8a5c-694e7a7f2883"
      },
      "source": [
        "## Código para popular um Banco de Dados Vetorial"
      ]
    },
    {
      "cell_type": "code",
      "execution_count": 14,
      "id": "c56d88c3-3f7f-4587-b9d7-88d3a041582f",
      "metadata": {
        "id": "c56d88c3-3f7f-4587-b9d7-88d3a041582f"
      },
      "outputs": [],
      "source": [
        "from langchain_community.document_loaders import PyPDFLoader\n",
        "from langchain_text_splitters import RecursiveCharacterTextSplitter\n",
        "from langchain_huggingface import HuggingFaceEmbeddings\n",
        "from langchain_community.vectorstores import Chroma\n",
        "\n",
        "dados = PyPDFLoader(\"biblioteca.pdf\").load()\n",
        "text_splitter = RecursiveCharacterTextSplitter(chunk_size=400, chunk_overlap=100)\n",
        "textos = text_splitter.split_documents(dados)\n",
        "embedding_engine = HuggingFaceEmbeddings(model_name=\"sentence-transformers/all-mpnet-base-v2\")\n",
        "vector_db = Chroma.from_documents(textos, embedding_engine)"
      ]
    },
    {
      "cell_type": "markdown",
      "id": "41f1efab-753e-4463-9db6-2b119911b745",
      "metadata": {
        "id": "41f1efab-753e-4463-9db6-2b119911b745"
      },
      "source": [
        "## Código para montar um RAG"
      ]
    },
    {
      "cell_type": "code",
      "execution_count": 26,
      "id": "901d6b43-1a55-4ca1-a8fa-67ef6dc2eb6b",
      "metadata": {
        "colab": {
          "base_uri": "https://localhost:8080/"
        },
        "id": "901d6b43-1a55-4ca1-a8fa-67ef6dc2eb6b",
        "outputId": "ef2e900a-425e-4c02-c37f-9d8fcb9374ed"
      },
      "outputs": [
        {
          "output_type": "stream",
          "name": "stderr",
          "text": [
            "/usr/local/lib/python3.11/dist-packages/langsmith/client.py:278: LangSmithMissingAPIKeyWarning: API key must be provided when using hosted LangSmith API\n",
            "  warnings.warn(\n"
          ]
        }
      ],
      "source": [
        "from langchain import hub\n",
        "from langchain_openai import ChatOpenAI\n",
        "from langchain_core.runnables import RunnablePassthrough\n",
        "from langchain_core.output_parsers import StrOutputParser\n",
        "#from dotenv import load_dotenv\n",
        "import os\n",
        "\n",
        "from google.colab import userdata\n",
        "#userdata.get('OPEN_API_KEY')\n",
        "#load_dotenv()\n",
        "\n",
        "OPENAI_API_KEY = userdata.get('OPENAI_API_KEY')\n",
        "n_documentos = 3\n",
        "\n",
        "def format_docs(documentos):\n",
        "    return \"\\n\\n\".join(documento.page_content for documento in documentos)\n",
        "\n",
        "llm = ChatOpenAI(openai_api_key = OPENAI_API_KEY, model = \"gpt-4o-mini\")\n",
        "prompt = hub.pull(\"rlm/rag-prompt\")\n",
        "\n",
        "rag = (\n",
        "    {\n",
        "        \"question\": RunnablePassthrough(),\n",
        "        \"context\": vector_db.as_retriever(k = n_documentos)\n",
        "                    | format_docs\n",
        "    }\n",
        "    | prompt\n",
        "    | llm\n",
        "    | StrOutputParser()\n",
        ")\n"
      ]
    },
    {
      "cell_type": "markdown",
      "id": "01ddcbee-f663-4087-b501-e156b790c303",
      "metadata": {
        "id": "01ddcbee-f663-4087-b501-e156b790c303"
      },
      "source": [
        "## Código para perguntar ao RAG"
      ]
    },
    {
      "cell_type": "code",
      "execution_count": null,
      "id": "b032eb1a-60ae-426e-8dde-94d08b67159f",
      "metadata": {
        "id": "b032eb1a-60ae-426e-8dde-94d08b67159f",
        "outputId": "28c57990-265c-491c-b68c-abb62e579b31"
      },
      "outputs": [
        {
          "data": {
            "text/plain": [
              "'A norma que trata de seringas hipodérmicas é a Portaria INMETRO 458/2021, que aprova os Requisitos de Avaliação da Conformidade para Seringas Hipodérmicas Estéreis de Uso Único.'"
            ]
          },
          "execution_count": 4,
          "metadata": {},
          "output_type": "execute_result"
        }
      ],
      "source": [
        "prompt = \"Qual a norma que trata de seringas hipodérmicas?\"\n",
        "rag.invoke(prompt)"
      ]
    }
  ],
  "metadata": {
    "kernelspec": {
      "display_name": "Python 3 (ipykernel)",
      "language": "python",
      "name": "python3"
    },
    "language_info": {
      "codemirror_mode": {
        "name": "ipython",
        "version": 3
      },
      "file_extension": ".py",
      "mimetype": "text/x-python",
      "name": "python",
      "nbconvert_exporter": "python",
      "pygments_lexer": "ipython3",
      "version": "3.12.4"
    },
    "colab": {
      "provenance": []
    }
  },
  "nbformat": 4,
  "nbformat_minor": 5
}