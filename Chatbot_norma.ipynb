{
  "cells": [
    {
      "cell_type": "markdown",
      "metadata": {
        "id": "view-in-github",
        "colab_type": "text"
      },
      "source": [
        "<a href=\"https://colab.research.google.com/github/Luisamfer/MBA_IA_Generativa/blob/main/Chatbot_norma.ipynb\" target=\"_parent\"><img src=\"https://colab.research.google.com/assets/colab-badge.svg\" alt=\"Open In Colab\"/></a>"
      ]
    },
    {
      "cell_type": "markdown",
      "id": "46484959-ef84-446f-adc7-7feb74f72dad",
      "metadata": {
        "id": "46484959-ef84-446f-adc7-7feb74f72dad"
      },
      "source": [
        "## Comando para baixar o PDF"
      ]
    },
    {
      "cell_type": "code",
      "execution_count": null,
      "id": "EtaMce5GFSqw",
      "metadata": {
        "id": "EtaMce5GFSqw"
      },
      "outputs": [],
      "source": [
        "#!pip install langchain faiss-cpu sentence-transformers\n",
        "#!pip install langchain-community\n",
        "#!pip install langchain_huggingface\n",
        "#!pip install chromadb\n",
        "#!pip install langchain_openai\n",
        "\n"
      ]
    },
    {
      "cell_type": "code",
      "execution_count": null,
      "id": "Dvkx88EYY1XP",
      "metadata": {
        "id": "Dvkx88EYY1XP"
      },
      "outputs": [],
      "source": [
        "!wget -O portaria19.html http://www.in.gov.br/web/dou/-/portaria-n-19-de-21-de-marco-de-2025-619527337"
      ]
    },
    {
      "cell_type": "code",
      "execution_count": null,
      "id": "AKeAauG_Uz3O",
      "metadata": {
        "id": "AKeAauG_Uz3O"
      },
      "outputs": [],
      "source": [
        "from langchain_community.document_loaders import BSHTMLLoader\n",
        "\n",
        "loader = BSHTMLLoader(\"portaria19.html\")\n",
        "dados = loader.load()\n",
        "#print(data[0].page_content)"
      ]
    },
    {
      "cell_type": "markdown",
      "id": "3cb2fe91-6707-4720-8a5c-694e7a7f2883",
      "metadata": {
        "id": "3cb2fe91-6707-4720-8a5c-694e7a7f2883"
      },
      "source": [
        "## Código para popular um Banco de Dados Vetorial"
      ]
    },
    {
      "cell_type": "code",
      "source": [
        "!pip install hf_xet"
      ],
      "metadata": {
        "id": "AkPbJbFmLfrX"
      },
      "id": "AkPbJbFmLfrX",
      "execution_count": null,
      "outputs": []
    },
    {
      "cell_type": "code",
      "execution_count": null,
      "id": "c56d88c3-3f7f-4587-b9d7-88d3a041582f",
      "metadata": {
        "id": "c56d88c3-3f7f-4587-b9d7-88d3a041582f"
      },
      "outputs": [],
      "source": [
        "from langchain_text_splitters import RecursiveCharacterTextSplitter\n",
        "from langchain_huggingface import HuggingFaceEmbeddings\n",
        "from langchain_community.vectorstores import Chroma\n",
        "\n",
        "text_splitter = RecursiveCharacterTextSplitter(chunk_size=1000, chunk_overlap=100)\n",
        "textos = text_splitter.split_documents(dados)\n",
        "embedding_engine = HuggingFaceEmbeddings(model_name=\"sentence-transformers/all-mpnet-base-v2\")\n",
        "vector_db = Chroma.from_documents(textos, embedding_engine, persist_directory=\"/content/drive/MyDrive/Colab Notebooks/IA_GEN\")"
      ]
    },
    {
      "cell_type": "markdown",
      "id": "41f1efab-753e-4463-9db6-2b119911b745",
      "metadata": {
        "id": "41f1efab-753e-4463-9db6-2b119911b745"
      },
      "source": [
        "## Código para montar um RAG"
      ]
    },
    {
      "cell_type": "code",
      "execution_count": null,
      "id": "901d6b43-1a55-4ca1-a8fa-67ef6dc2eb6b",
      "metadata": {
        "id": "901d6b43-1a55-4ca1-a8fa-67ef6dc2eb6b"
      },
      "outputs": [],
      "source": [
        "from langchain import hub\n",
        "from langchain_openai import ChatOpenAI\n",
        "from langchain_core.runnables import RunnablePassthrough\n",
        "from langchain_core.output_parsers import StrOutputParser\n",
        "import os\n",
        "from google.colab import userdata\n",
        "\n",
        "OPENAI_API_KEY = userdata.get('OPENAI_API_KEY')\n",
        "n_documentos = 5\n",
        "\n",
        "def format_docs(documentos):\n",
        "    return \"\\n\\n\".join(documento.page_content for documento in documentos)\n",
        "\n",
        "llm = ChatOpenAI(openai_api_key = OPENAI_API_KEY, model = \"gpt-4o-mini\")\n",
        "prompt = hub.pull(\"rlm/rag-prompt\")\n",
        "\n",
        "rag = (\n",
        "    {\n",
        "        \"question\": RunnablePassthrough(),\n",
        "        \"context\": vector_db.as_retriever(k = n_documentos)\n",
        "                    | format_docs\n",
        "    }\n",
        "    | prompt\n",
        "    | llm\n",
        "    | StrOutputParser()\n",
        ")\n"
      ]
    },
    {
      "cell_type": "markdown",
      "id": "01ddcbee-f663-4087-b501-e156b790c303",
      "metadata": {
        "id": "01ddcbee-f663-4087-b501-e156b790c303"
      },
      "source": [
        "## Código para perguntar ao RAG"
      ]
    },
    {
      "cell_type": "code",
      "execution_count": null,
      "id": "b032eb1a-60ae-426e-8dde-94d08b67159f",
      "metadata": {
        "id": "b032eb1a-60ae-426e-8dde-94d08b67159f"
      },
      "outputs": [],
      "source": [
        "prompt = \"Qual a documentação obrigatória para inscrição no CAF?\"\n",
        "rag.invoke(prompt)"
      ]
    },
    {
      "cell_type": "code",
      "execution_count": null,
      "id": "3lTLxpOLZ4JA",
      "metadata": {
        "id": "3lTLxpOLZ4JA"
      },
      "outputs": [],
      "source": []
    }
  ],
  "metadata": {
    "colab": {
      "provenance": [],
      "include_colab_link": true
    },
    "kernelspec": {
      "display_name": "Python 3 (ipykernel)",
      "language": "python",
      "name": "python3"
    },
    "language_info": {
      "codemirror_mode": {
        "name": "ipython",
        "version": 3
      },
      "file_extension": ".py",
      "mimetype": "text/x-python",
      "name": "python",
      "nbconvert_exporter": "python",
      "pygments_lexer": "ipython3",
      "version": "3.12.7"
    }
  },
  "nbformat": 4,
  "nbformat_minor": 5
}